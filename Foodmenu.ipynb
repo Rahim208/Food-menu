{
 "cells": [
  {
   "cell_type": "code",
   "execution_count": null,
   "id": "55d552fb-0408-419d-9869-4893d6fc5772",
   "metadata": {},
   "outputs": [],
   "source": []
  },
  {
   "cell_type": "code",
   "execution_count": 1,
   "id": "b483b135-d2d3-40b8-87ec-9cde572de11a",
   "metadata": {},
   "outputs": [
    {
     "name": "stdout",
     "output_type": "stream",
     "text": [
      "welcome to Food Fusion\n"
     ]
    },
    {
     "name": "stdin",
     "output_type": "stream",
     "text": [
      "Are you a vegetarian or non Vagetarian? \n",
      "a=a (vagetarian) \n",
      "b=b (non vagetarian): b\n",
      "what non-vagetarian options would you like? \n",
      "a=a (appetizers) \n",
      "b=b (soups) \n",
      "c=c (main courses): c\n",
      "In main course we have these: \n",
      "a=a (Grilled Chicken with Herb Butter) \n",
      "b=b (Beef Steak with Pepper Sauce) \n",
      "c=c (Shrimp Alfredo Pasta): b\n"
     ]
    },
    {
     "name": "stdout",
     "output_type": "stream",
     "text": [
      "enjoy your Beef Steak with Pepper Sauce\n"
     ]
    },
    {
     "name": "stdin",
     "output_type": "stream",
     "text": [
      "Would you like to place another order? (y/n): y\n",
      "Are you a vegetarian or non Vagetarian? \n",
      "a=a (vagetarian) \n",
      "b=b (non vagetarian): a\n",
      "what vagetarian options would you like? \n",
      "a=a (appetizers) \n",
      "b=b (soups) \n",
      "c=c (main courses): a\n",
      "In appetizers we have these: \n",
      "a=a (Garden Salad) \n",
      "b=b (veggie spring rolls) \n",
      "c=c (tomato bruschetta): a\n"
     ]
    },
    {
     "name": "stdout",
     "output_type": "stream",
     "text": [
      "enjoy your Garden Salad!\n"
     ]
    },
    {
     "name": "stdin",
     "output_type": "stream",
     "text": [
      "Would you like to place another order? (y/n): n\n"
     ]
    },
    {
     "name": "stdout",
     "output_type": "stream",
     "text": [
      "Thank you for visiting! Have a great day!\n"
     ]
    }
   ],
   "source": [
    "print(\"welcome to Food Fusion\")\n",
    "\n",
    "while True:\n",
    "    Food=input(\"Are you a vegetarian or non Vagetarian? \\na=a (vagetarian) \\nb=b (non vagetarian):\").lower()\n",
    "    \n",
    "    if Food==\"a\":\n",
    "        vagetarian=input(\"what vagetarian options would you like? \\na=a (appetizers) \\nb=b (soups) \\nc=c (main courses):\").lower()\n",
    "        \n",
    "        if vagetarian==\"a\":\n",
    "            appetizers=input(\"In appetizers we have these: \\na=a (Garden Salad) \\nb=b (veggie spring rolls) \\nc=c (tomato bruschetta):\").lower()\n",
    "            if appetizers==\"a\":\n",
    "                print(\"enjoy your Garden Salad!\")\n",
    "            elif appetizers==\"b\":\n",
    "                print(\"enjoy your veggie spring roll!\")\n",
    "            elif appetizers==\"c\":\n",
    "                print(\"enjoy your tomato bruschetta!\")\n",
    "            else:\n",
    "                print(\"Invalid choice.\")\n",
    "    \n",
    "        elif vagetarian==\"b\":\n",
    "            soups=input(\"In soups we have these: \\na=a (cream of mushroom soup) \\nb=b (tomato basil soup) \\nc=c (Lentil soup):\").lower()\n",
    "            if soups==\"a\":\n",
    "                print(\"enjoy your cream of mushroom soup\")\n",
    "            elif soups==\"b\":\n",
    "                print(\"enjoy your tomato basil soup\")\n",
    "            elif soups==\"c\":\n",
    "                print(\"enjoy your Lentil soup\")\n",
    "            else:\n",
    "                print(\"Invalid choice.\")\n",
    "\n",
    "        elif vagetarian==\"c\":\n",
    "            main_course=input(\"In main course we have these: \\na=a (veggie pasta) \\nb=b(Margherita Pizza) \\nc=c (Vegetable Stir-fry with Rice):\").lower()\n",
    "            if main_course==\"a\":\n",
    "                print(\"enjoy your cream of veggie pasta\")\n",
    "            elif main_course==\"b\":\n",
    "                print(\"enjoy your Margherita Pizza\")\n",
    "            elif main_course==\"c\":\n",
    "                print(\"enjoy your Vegetable Stir-fry with Rice\")\n",
    "            else:\n",
    "                print(\"Invalid choice.\")\n",
    "\n",
    "        else:\n",
    "            print(\"Invalid choice.\")\n",
    "\n",
    "        exit_choice=input(\"Would you like to place another order? (y/n):\").lower()\n",
    "        if exit_choice==\"n\":\n",
    "            print(\"Thank you for visiting! Have a great day!\")\n",
    "            break\n",
    "            \n",
    "\n",
    "    elif Food==\"b\":\n",
    "        non_vagetarian=input(\"what non-vagetarian options would you like? \\na=a (appetizers) \\nb=b (soups) \\nc=c (main courses):\").lower()\n",
    "\n",
    "        if non_vagetarian==\"a\":\n",
    "            appetizers=input(\"In appetizers we have these: \\na=a (chicken wings) \\nb=b (prawn cocktail) \\nc=c (meatball in tomato sauce):\").lower()\n",
    "            if appetizers==\"a\":\n",
    "                print(\"enjoy your chicken wings\")\n",
    "            elif appetizers==\"b\":\n",
    "                print(\"enjoy your prawn cocktail\")\n",
    "            elif appetizers==\"c\":\n",
    "                print(\"enjoy your meatball in tomato sauce\")\n",
    "            else:\n",
    "                print(\"Invalid choice.\")\n",
    "\n",
    "        elif non_vagetarian==\"b\":\n",
    "            soups=input(\"In soups we have these: \\na=a (Chicken Noodle Soup) \\nb=b (Seafood Chowder) \\nc=c (Hot and Sour Chicken Soup):\").lower()\n",
    "            if soups==\"a\":\n",
    "                print(\"enjoy your Chicken Noodle Soup\")\n",
    "            elif soups==\"b\":\n",
    "                print(\"enjoy your Seafood Chowder\")\n",
    "            elif soups==\"c\":\n",
    "                print(\"enjoy your Hot and Sour Chicken Soup\")\n",
    "            else:\n",
    "                print(\"Invalid choice.\")\n",
    "                    \n",
    "        elif non_vagetarian==\"c\":\n",
    "            main_course=input(\"In main course we have these: \\na=a (Grilled Chicken with Herb Butter) \\nb=b (Beef Steak with Pepper Sauce) \\nc=c (Shrimp Alfredo Pasta):\").lower()\n",
    "            if main_course==\"a\":\n",
    "                print(\"enjoy your Grilled Chicken with Herb Butter\")\n",
    "            elif main_course==\"b\":\n",
    "                print(\"enjoy your Beef Steak with Pepper Sauce\")\n",
    "            elif main_course==\"c\":\n",
    "                print(\"enjoy your Shrimp Alfredo Pasta\")\n",
    "            else:\n",
    "                print(\"Invalid choice.\")\n",
    "\n",
    "        else:\n",
    "            print(\"Invalid Choice. Please select 'a' for vegetarian or 'b' for non-vegetarian.\")\n",
    "\n",
    "\n",
    "        exit_choice=input(\"Would you like to place another order? (y/n):\").lower()\n",
    "        if exit_choice==\"n\":\n",
    "            print(\"Thank you for visiting! Have a great day!\")\n",
    "            break\n",
    "        \n",
    "        \n",
    "        "
   ]
  },
  {
   "cell_type": "code",
   "execution_count": null,
   "id": "da2f3946-27e2-483e-bd22-6b2f0f51daf8",
   "metadata": {},
   "outputs": [],
   "source": []
  }
 ],
 "metadata": {
  "kernelspec": {
   "display_name": "Python 3 (ipykernel)",
   "language": "python",
   "name": "python3"
  },
  "language_info": {
   "codemirror_mode": {
    "name": "ipython",
    "version": 3
   },
   "file_extension": ".py",
   "mimetype": "text/x-python",
   "name": "python",
   "nbconvert_exporter": "python",
   "pygments_lexer": "ipython3",
   "version": "3.13.0"
  }
 },
 "nbformat": 4,
 "nbformat_minor": 5
}
